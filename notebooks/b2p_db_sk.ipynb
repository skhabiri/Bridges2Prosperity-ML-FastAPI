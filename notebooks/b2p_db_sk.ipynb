{
 "cells": [
  {
   "cell_type": "code",
   "execution_count": 1,
   "metadata": {
    "colab": {
     "base_uri": "https://localhost:8080/"
    },
    "id": "lwN5fR_BuH77",
    "outputId": "2ac2254a-32b0-4b1c-f145-2de1d6cb5a01"
   },
   "outputs": [
    {
     "name": "stdout",
     "output_type": "stream",
     "text": [
      "Requirement already satisfied: python-dotenv in /Users/shahnam/.pyenv/versions/3.7.8/lib/python3.7/site-packages (0.15.0)\n",
      "\u001b[33mWARNING: You are using pip version 20.2.2; however, version 20.2.4 is available.\n",
      "You should consider upgrading via the '/Users/shahnam/.pyenv/versions/3.7.8/bin/python3.7 -m pip install --upgrade pip' command.\u001b[0m\n"
     ]
    }
   ],
   "source": [
    "!pip install python-dotenv\n",
    "# echo python-dotenv >> requirements.txt"
   ]
  },
  {
   "cell_type": "code",
   "execution_count": 2,
   "metadata": {
    "colab": {
     "base_uri": "https://localhost:8080/"
    },
    "id": "fTQN-iCgut_w",
    "outputId": "063c0876-afef-4953-95a3-200e41b0ba50"
   },
   "outputs": [
    {
     "name": "stdout",
     "output_type": "stream",
     "text": [
      "Requirement already satisfied: psycopg2-binary in /Users/shahnam/.pyenv/versions/3.7.8/lib/python3.7/site-packages (2.8.6)\n",
      "\u001b[33mWARNING: You are using pip version 20.2.2; however, version 20.2.4 is available.\n",
      "You should consider upgrading via the '/Users/shahnam/.pyenv/versions/3.7.8/bin/python3.7 -m pip install --upgrade pip' command.\u001b[0m\n"
     ]
    }
   ],
   "source": [
    "!pip install psycopg2-binary"
   ]
  },
  {
   "cell_type": "code",
   "execution_count": 3,
   "metadata": {
    "id": "V-9vk0Sumdfr"
   },
   "outputs": [],
   "source": [
    "import psycopg2\n",
    "import pandas as pd\n",
    "import json\n",
    "import os\n",
    "from dotenv import load_dotenv"
   ]
  },
  {
   "cell_type": "markdown",
   "metadata": {
    "id": "ZNnj-29Xmdfy"
   },
   "source": [
    "# Convert CSV into DataFrame format"
   ]
  },
  {
   "cell_type": "code",
   "execution_count": 4,
   "metadata": {
    "id": "_ndLye3-mdfz"
   },
   "outputs": [],
   "source": [
    "#Convert CSV File W/ Data into dataframe, make sure you have the correct file and in the proper csv format\n",
    "dfp = pd.read_csv(\"../Data/predict_df.csv\")\n",
    "df = pd.read_csv(\"../Data/main_data_clean.csv\")"
   ]
  },
  {
   "cell_type": "code",
   "execution_count": 5,
   "metadata": {
    "colab": {
     "base_uri": "https://localhost:8080/",
     "height": 241
    },
    "id": "sjElmm75mdf4",
    "outputId": "dc28992c-d4c5-42de-8c3e-d05d278c91d4"
   },
   "outputs": [
    {
     "name": "stdout",
     "output_type": "stream",
     "text": [
      "(1472, 43) (1472, 7)\n"
     ]
    },
    {
     "data": {
      "text/html": [
       "<div>\n",
       "<style scoped>\n",
       "    .dataframe tbody tr th:only-of-type {\n",
       "        vertical-align: middle;\n",
       "    }\n",
       "\n",
       "    .dataframe tbody tr th {\n",
       "        vertical-align: top;\n",
       "    }\n",
       "\n",
       "    .dataframe thead th {\n",
       "        text-align: right;\n",
       "    }\n",
       "</style>\n",
       "<table border=\"1\" class=\"dataframe\">\n",
       "  <thead>\n",
       "    <tr style=\"text-align: right;\">\n",
       "      <th></th>\n",
       "      <th>bridge_name</th>\n",
       "      <th>bridge_opportunity_project_code</th>\n",
       "      <th>bridge_opportunity_needs_assessment</th>\n",
       "      <th>bridge_opportunity_level1_government</th>\n",
       "      <th>bridge_opportunity_level2_government</th>\n",
       "      <th>bridge_opportunity_gps_latitude</th>\n",
       "      <th>bridge_opportunity_gps_longitude</th>\n",
       "      <th>bridge_opportunity_bridge_type</th>\n",
       "      <th>bridge_opportunity_span_m</th>\n",
       "      <th>bridge_opportunity_individuals_directly_served</th>\n",
       "      <th>...</th>\n",
       "      <th>bridge_classification</th>\n",
       "      <th>flag_for_rejection</th>\n",
       "      <th>rejection_reason</th>\n",
       "      <th>bridge_type</th>\n",
       "      <th>estimated_span_m</th>\n",
       "      <th>height_differential_between_banks</th>\n",
       "      <th>bridge_opportunity_general_project_photos</th>\n",
       "      <th>bridge_opportunity_casesafeid</th>\n",
       "      <th>country</th>\n",
       "      <th>good_site</th>\n",
       "    </tr>\n",
       "  </thead>\n",
       "  <tbody>\n",
       "    <tr>\n",
       "      <th>0</th>\n",
       "      <td>Bukinga</td>\n",
       "      <td>1009317</td>\n",
       "      <td>Rwanda Needs Assessment 2018</td>\n",
       "      <td>Southern Province</td>\n",
       "      <td>Nyaruguru</td>\n",
       "      <td>-2.760833</td>\n",
       "      <td>29.488056</td>\n",
       "      <td>Suspended Bridge</td>\n",
       "      <td>NaN</td>\n",
       "      <td>NaN</td>\n",
       "      <td>...</td>\n",
       "      <td>NaN</td>\n",
       "      <td>Yes</td>\n",
       "      <td>There is a planned vehicular road with a vehic...</td>\n",
       "      <td>NaN</td>\n",
       "      <td>NaN</td>\n",
       "      <td>NaN</td>\n",
       "      <td>NaN</td>\n",
       "      <td>006f100000asFErAAM</td>\n",
       "      <td>Rwanda</td>\n",
       "      <td>0.0</td>\n",
       "    </tr>\n",
       "    <tr>\n",
       "      <th>1</th>\n",
       "      <td>Kagarama</td>\n",
       "      <td>1007325</td>\n",
       "      <td>NaN</td>\n",
       "      <td>Western Province</td>\n",
       "      <td>Nyamasheke</td>\n",
       "      <td>-2.322534</td>\n",
       "      <td>29.141944</td>\n",
       "      <td>Suspension Bridge</td>\n",
       "      <td>48.0</td>\n",
       "      <td>4000.0</td>\n",
       "      <td>...</td>\n",
       "      <td>NaN</td>\n",
       "      <td>NaN</td>\n",
       "      <td>NaN</td>\n",
       "      <td>NaN</td>\n",
       "      <td>10.0</td>\n",
       "      <td>0.7</td>\n",
       "      <td>https://flic.kr/s/aHskvedfPB</td>\n",
       "      <td>006f100000a82QzAAI</td>\n",
       "      <td>Rwanda</td>\n",
       "      <td>1.0</td>\n",
       "    </tr>\n",
       "    <tr>\n",
       "      <th>2</th>\n",
       "      <td>Karambi</td>\n",
       "      <td>1007374</td>\n",
       "      <td>NaN</td>\n",
       "      <td>Southern Province</td>\n",
       "      <td>Huye</td>\n",
       "      <td>-2.513333</td>\n",
       "      <td>29.612778</td>\n",
       "      <td>Suspension Bridge</td>\n",
       "      <td>50.0</td>\n",
       "      <td>12500.0</td>\n",
       "      <td>...</td>\n",
       "      <td>Standard</td>\n",
       "      <td>NaN</td>\n",
       "      <td>NaN</td>\n",
       "      <td>Suspension</td>\n",
       "      <td>45.0</td>\n",
       "      <td>1.0</td>\n",
       "      <td>https://flic.kr/s/aHskbMF1Kr</td>\n",
       "      <td>006f100000a86DaAAI</td>\n",
       "      <td>Rwanda</td>\n",
       "      <td>1.0</td>\n",
       "    </tr>\n",
       "    <tr>\n",
       "      <th>3</th>\n",
       "      <td>Rugeti</td>\n",
       "      <td>1007466</td>\n",
       "      <td>Rwanda Needs Assessment 2018</td>\n",
       "      <td>Southern Province</td>\n",
       "      <td>Nyamagabe</td>\n",
       "      <td>-2.476407</td>\n",
       "      <td>29.420800</td>\n",
       "      <td>Suspension Bridge</td>\n",
       "      <td>68.0</td>\n",
       "      <td>4363.0</td>\n",
       "      <td>...</td>\n",
       "      <td>Standard</td>\n",
       "      <td>No</td>\n",
       "      <td>NaN</td>\n",
       "      <td>Suspended</td>\n",
       "      <td>47.4</td>\n",
       "      <td>1.1</td>\n",
       "      <td>https://www.flickr.com/photos/bridgestoprosper...</td>\n",
       "      <td>006f100000a86F4AAI</td>\n",
       "      <td>Rwanda</td>\n",
       "      <td>1.0</td>\n",
       "    </tr>\n",
       "    <tr>\n",
       "      <th>4</th>\n",
       "      <td>Nyakabuye - Nkomane</td>\n",
       "      <td>1007495</td>\n",
       "      <td>Rwanda Needs Assessment 2018</td>\n",
       "      <td>Southern Province</td>\n",
       "      <td>Nyamagabe</td>\n",
       "      <td>-2.233022</td>\n",
       "      <td>29.575130</td>\n",
       "      <td>Suspension Bridge</td>\n",
       "      <td>78.0</td>\n",
       "      <td>2790.0</td>\n",
       "      <td>...</td>\n",
       "      <td>Standard</td>\n",
       "      <td>No</td>\n",
       "      <td>NaN</td>\n",
       "      <td>Suspended</td>\n",
       "      <td>90.0</td>\n",
       "      <td>1.1</td>\n",
       "      <td>https://www.flickr.com/photos/bridgestoprosper...</td>\n",
       "      <td>006f100000a86FXAAY</td>\n",
       "      <td>Rwanda</td>\n",
       "      <td>1.0</td>\n",
       "    </tr>\n",
       "  </tbody>\n",
       "</table>\n",
       "<p>5 rows × 43 columns</p>\n",
       "</div>"
      ],
      "text/plain": [
       "           bridge_name bridge_opportunity_project_code  \\\n",
       "0              Bukinga                         1009317   \n",
       "1             Kagarama                         1007325   \n",
       "2              Karambi                         1007374   \n",
       "3               Rugeti                         1007466   \n",
       "4  Nyakabuye - Nkomane                         1007495   \n",
       "\n",
       "  bridge_opportunity_needs_assessment bridge_opportunity_level1_government  \\\n",
       "0        Rwanda Needs Assessment 2018                    Southern Province   \n",
       "1                                 NaN                     Western Province   \n",
       "2                                 NaN                    Southern Province   \n",
       "3        Rwanda Needs Assessment 2018                    Southern Province   \n",
       "4        Rwanda Needs Assessment 2018                    Southern Province   \n",
       "\n",
       "  bridge_opportunity_level2_government  bridge_opportunity_gps_latitude  \\\n",
       "0                            Nyaruguru                        -2.760833   \n",
       "1                           Nyamasheke                        -2.322534   \n",
       "2                                 Huye                        -2.513333   \n",
       "3                            Nyamagabe                        -2.476407   \n",
       "4                            Nyamagabe                        -2.233022   \n",
       "\n",
       "   bridge_opportunity_gps_longitude bridge_opportunity_bridge_type  \\\n",
       "0                         29.488056               Suspended Bridge   \n",
       "1                         29.141944              Suspension Bridge   \n",
       "2                         29.612778              Suspension Bridge   \n",
       "3                         29.420800              Suspension Bridge   \n",
       "4                         29.575130              Suspension Bridge   \n",
       "\n",
       "   bridge_opportunity_span_m  bridge_opportunity_individuals_directly_served  \\\n",
       "0                        NaN                                             NaN   \n",
       "1                       48.0                                          4000.0   \n",
       "2                       50.0                                         12500.0   \n",
       "3                       68.0                                          4363.0   \n",
       "4                       78.0                                          2790.0   \n",
       "\n",
       "   ... bridge_classification flag_for_rejection  \\\n",
       "0  ...                   NaN                Yes   \n",
       "1  ...                   NaN                NaN   \n",
       "2  ...              Standard                NaN   \n",
       "3  ...              Standard                 No   \n",
       "4  ...              Standard                 No   \n",
       "\n",
       "                                    rejection_reason  bridge_type  \\\n",
       "0  There is a planned vehicular road with a vehic...          NaN   \n",
       "1                                                NaN          NaN   \n",
       "2                                                NaN   Suspension   \n",
       "3                                                NaN    Suspended   \n",
       "4                                                NaN    Suspended   \n",
       "\n",
       "   estimated_span_m height_differential_between_banks  \\\n",
       "0               NaN                               NaN   \n",
       "1              10.0                               0.7   \n",
       "2              45.0                               1.0   \n",
       "3              47.4                               1.1   \n",
       "4              90.0                               1.1   \n",
       "\n",
       "           bridge_opportunity_general_project_photos  \\\n",
       "0                                                NaN   \n",
       "1                       https://flic.kr/s/aHskvedfPB   \n",
       "2                       https://flic.kr/s/aHskbMF1Kr   \n",
       "3  https://www.flickr.com/photos/bridgestoprosper...   \n",
       "4  https://www.flickr.com/photos/bridgestoprosper...   \n",
       "\n",
       "   bridge_opportunity_casesafeid country good_site  \n",
       "0             006f100000asFErAAM  Rwanda       0.0  \n",
       "1             006f100000a82QzAAI  Rwanda       1.0  \n",
       "2             006f100000a86DaAAI  Rwanda       1.0  \n",
       "3             006f100000a86F4AAI  Rwanda       1.0  \n",
       "4             006f100000a86FXAAY  Rwanda       1.0  \n",
       "\n",
       "[5 rows x 43 columns]"
      ]
     },
     "execution_count": 5,
     "metadata": {},
     "output_type": "execute_result"
    }
   ],
   "source": [
    "#Data frame looks good to go\n",
    "print(df.shape, dfp.shape)\n",
    "df.head()"
   ]
  },
  {
   "cell_type": "code",
   "execution_count": 31,
   "metadata": {},
   "outputs": [
    {
     "data": {
      "text/plain": [
       "Index(['bridge_opportunity_bridge_type', 'bridge_opportunity_span_m',\n",
       "       'days_per_year_river_is_flooded', 'bridge_classification',\n",
       "       'flag_for_rejection', 'height_differential_between_banks',\n",
       "       'bridge_opportunity_project_code'],\n",
       "      dtype='object')"
      ]
     },
     "execution_count": 31,
     "metadata": {},
     "output_type": "execute_result"
    }
   ],
   "source": [
    "dfp.columns"
   ]
  },
  {
   "cell_type": "markdown",
   "metadata": {
    "id": "AZjVj2Xgmdf7"
   },
   "source": [
    "# Clean Columns If Necessary"
   ]
  },
  {
   "cell_type": "markdown",
   "metadata": {
    "id": "AGV1Z5gAmdgA"
   },
   "source": [
    "# Check Secrets"
   ]
  },
  {
   "cell_type": "code",
   "execution_count": 6,
   "metadata": {
    "colab": {
     "base_uri": "https://localhost:8080/",
     "height": 72,
     "resources": {
      "http://localhost:8080/nbextensions/google.colab/files.js": {
       "data": "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",
       "headers": [
        [
         "content-type",
         "application/javascript"
        ]
       ],
       "ok": true,
       "status": 200,
       "status_text": ""
      }
     }
    },
    "id": "xgV_nzM1xWbh",
    "outputId": "a0cdc11e-eed4-4568-a9a3-dc0b4451e75a"
   },
   "outputs": [],
   "source": [
    "# from google.colab import files\n",
    "# uploaded = files.upload()"
   ]
  },
  {
   "cell_type": "code",
   "execution_count": 7,
   "metadata": {
    "id": "mSuav84oRRUb"
   },
   "outputs": [],
   "source": [
    "# from google.colab import drive\n",
    "# drive.mount('/content/drive')"
   ]
  },
  {
   "cell_type": "code",
   "execution_count": 1,
   "metadata": {
    "id": "0F9OzLyemdgB"
   },
   "outputs": [
    {
     "ename": "NameError",
     "evalue": "name 'os' is not defined",
     "output_type": "error",
     "traceback": [
      "\u001b[0;31m---------------------------------------------------------------------------\u001b[0m",
      "\u001b[0;31mNameError\u001b[0m                                 Traceback (most recent call last)",
      "\u001b[0;32m<ipython-input-1-3da453237592>\u001b[0m in \u001b[0;36m<module>\u001b[0;34m\u001b[0m\n\u001b[1;32m      1\u001b[0m \u001b[0;31m#Secrets are contained in a .envfile\u001b[0m\u001b[0;34m\u001b[0m\u001b[0;34m\u001b[0m\u001b[0;34m\u001b[0m\u001b[0m\n\u001b[0;32m----> 2\u001b[0;31m \u001b[0mfile_path\u001b[0m \u001b[0;34m=\u001b[0m \u001b[0mos\u001b[0m\u001b[0;34m.\u001b[0m\u001b[0mpath\u001b[0m\u001b[0;34m.\u001b[0m\u001b[0mabspath\u001b[0m\u001b[0;34m(\u001b[0m\u001b[0;34m'../project/app/api'\u001b[0m\u001b[0;34m)\u001b[0m  \u001b[0;31m# adjust as appropriate\u001b[0m\u001b[0;34m\u001b[0m\u001b[0;34m\u001b[0m\u001b[0m\n\u001b[0m\u001b[1;32m      3\u001b[0m \u001b[0mload_dotenv\u001b[0m\u001b[0;34m(\u001b[0m\u001b[0mos\u001b[0m\u001b[0;34m.\u001b[0m\u001b[0mpath\u001b[0m\u001b[0;34m.\u001b[0m\u001b[0mjoin\u001b[0m\u001b[0;34m(\u001b[0m\u001b[0mfile_path\u001b[0m\u001b[0;34m,\u001b[0m \u001b[0;34m'.env'\u001b[0m\u001b[0;34m)\u001b[0m\u001b[0;34m)\u001b[0m\u001b[0;34m\u001b[0m\u001b[0;34m\u001b[0m\u001b[0m\n\u001b[1;32m      4\u001b[0m \u001b[0;31m# load_dotenv()\u001b[0m\u001b[0;34m\u001b[0m\u001b[0;34m\u001b[0m\u001b[0;34m\u001b[0m\u001b[0m\n\u001b[1;32m      5\u001b[0m \u001b[0mdb_name\u001b[0m \u001b[0;34m=\u001b[0m \u001b[0mos\u001b[0m\u001b[0;34m.\u001b[0m\u001b[0mgetenv\u001b[0m\u001b[0;34m(\u001b[0m\u001b[0;34m\"DB_NAME\"\u001b[0m\u001b[0;34m)\u001b[0m\u001b[0;34m\u001b[0m\u001b[0;34m\u001b[0m\u001b[0m\n",
      "\u001b[0;31mNameError\u001b[0m: name 'os' is not defined"
     ]
    }
   ],
   "source": [
    "#Secrets are contained in a .envfile\n",
    "file_path = os.path.abspath('../project/app/api')  # adjust as appropriate\n",
    "load_dotenv(os.path.join(file_path, '.env'))\n",
    "# load_dotenv()\n",
    "db_name = os.getenv(\"DB_NAME\")\n",
    "db_user = os.getenv(\"DB_USER\")\n",
    "db_password = os.getenv(\"DB_PASSWORD\")\n",
    "db_host = os.getenv(\"DB_HOST\")\n",
    "db_port = os.getenv(\"DB_PORT\")\n",
    "\n",
    "# print(db_name)\n",
    "# print(db_user)\n",
    "# print(db_password)\n",
    "# print(db_host)\n",
    "# print(db_port)"
   ]
  },
  {
   "cell_type": "markdown",
   "metadata": {
    "id": "w-BQScNTmdgD"
   },
   "source": [
    "# Verify which tables exist in DataBase"
   ]
  },
  {
   "cell_type": "code",
   "execution_count": 9,
   "metadata": {},
   "outputs": [
    {
     "name": "stdout",
     "output_type": "stream",
     "text": [
      "Requirement already satisfied: SQLAlchemy in /Users/shahnam/.pyenv/versions/3.7.8/lib/python3.7/site-packages (1.3.20)\n",
      "\u001b[33mWARNING: You are using pip version 20.2.2; however, version 20.2.4 is available.\n",
      "You should consider upgrading via the '/Users/shahnam/.pyenv/versions/3.7.8/bin/python3.7 -m pip install --upgrade pip' command.\u001b[0m\n"
     ]
    }
   ],
   "source": [
    "!pip install SQLAlchemy"
   ]
  },
  {
   "cell_type": "code",
   "execution_count": 14,
   "metadata": {
    "colab": {
     "base_uri": "https://localhost:8080/"
    },
    "id": "iefe-caKmdgE",
    "outputId": "312bc603-cdbc-4db5-f1f3-2f701b871d6b"
   },
   "outputs": [
    {
     "name": "stdout",
     "output_type": "stream",
     "text": [
      "[]\n"
     ]
    }
   ],
   "source": [
    "import sqlalchemy  # Package for accessing SQL databases via Python\n",
    "from sqlalchemy.ext.declarative import declarative_base\n",
    "\n",
    "# Connect to database (Note: The package psychopg2 is required for Postgres to work with SQLAlchemy)\n",
    "engine = sqlalchemy.create_engine(f\"postgresql://{db_user}:{db_password}@{db_host}:{db_port}/{db_name}\")\n",
    "con = engine.connect()\n",
    "# Verify that there are no existing tables\n",
    "print(engine.table_names())"
   ]
  },
  {
   "cell_type": "code",
   "execution_count": 15,
   "metadata": {},
   "outputs": [],
   "source": [
    "def drop_table(table_name):\n",
    "   base = declarative_base()\n",
    "   metadata = MetaData(engine, reflect=True)\n",
    "   table = metadata.tables.get(table_name)\n",
    "   if table is not None:\n",
    "       logging.info(f'Deleting {table_name} table')\n",
    "       base.metadata.drop_all(engine, [table], checkfirst=True)"
   ]
  },
  {
   "cell_type": "code",
   "execution_count": 16,
   "metadata": {},
   "outputs": [],
   "source": [
    "table_names = engine.table_names()\n",
    "for name in table_names:\n",
    "    drop_table(name)"
   ]
  },
  {
   "cell_type": "markdown",
   "metadata": {
    "id": "2CGxv0pamdgG"
   },
   "source": [
    "### Upload DataFrame to DataBase"
   ]
  },
  {
   "cell_type": "code",
   "execution_count": 17,
   "metadata": {
    "id": "OCPaD1mtmdgG"
   },
   "outputs": [],
   "source": [
    "df.to_sql('cleaneddata_table', con)\n",
    "dfp.to_sql('model_table', con)"
   ]
  },
  {
   "cell_type": "code",
   "execution_count": 20,
   "metadata": {},
   "outputs": [],
   "source": [
    "con.close()"
   ]
  },
  {
   "cell_type": "markdown",
   "metadata": {},
   "source": [
    "### Make query to the database"
   ]
  },
  {
   "cell_type": "code",
   "execution_count": 18,
   "metadata": {
    "id": "O93BR-rVmdgI"
   },
   "outputs": [],
   "source": [
    "def conn_curs():\n",
    "    \"\"\"\n",
    "    makes a connection to the database\n",
    "    \"\"\"\n",
    "    global db_name\n",
    "    global db_user\n",
    "    global db_password\n",
    "    global db_host\n",
    "    global db_port\n",
    "    \n",
    "    connection = psycopg2.connect(dbname=db_name, user= db_user,\n",
    "                                  password=db_password, host= db_host,port=db_port)\n",
    "    cursor = connection.cursor()\n",
    "    return connection, cursor"
   ]
  },
  {
   "cell_type": "code",
   "execution_count": 19,
   "metadata": {
    "id": "gPvSLHU5mdgK"
   },
   "outputs": [],
   "source": [
    "def fetch_query_records(query):\n",
    "    global conn_curs\n",
    "    conn, cursor = conn_curs()\n",
    "    cursor.execute(query)\n",
    "    result = cursor.fetchall()\n",
    "    cursor.close()\n",
    "    conn.close()\n",
    "    return result"
   ]
  },
  {
   "cell_type": "code",
   "execution_count": 26,
   "metadata": {
    "id": "FqwbcPuRmdgN",
    "outputId": "d031ca9c-3fbf-40c2-feee-0f3f169ab55b"
   },
   "outputs": [
    {
     "data": {
      "text/plain": [
       "[('Bukinga',),\n",
       " ('Kagarama',),\n",
       " ('Karambi',),\n",
       " ('Rugeti',),\n",
       " ('Nyakabuye - Nkomane',)]"
      ]
     },
     "execution_count": 26,
     "metadata": {},
     "output_type": "execute_result"
    }
   ],
   "source": [
    "fetch_query_records(\"\"\"SELECT bridge_name from cleaneddata_table LIMIT 5;\"\"\")"
   ]
  },
  {
   "cell_type": "code",
   "execution_count": 28,
   "metadata": {
    "colab": {
     "base_uri": "https://localhost:8080/"
    },
    "id": "mAxrAja5mdgP",
    "outputId": "0412f97f-6425-4158-81ed-e863e0a46abb"
   },
   "outputs": [
    {
     "name": "stdout",
     "output_type": "stream",
     "text": [
      "[('Rwanda',)]\n"
     ]
    }
   ],
   "source": [
    "# Testing Querie to get Records based on Bridge Name\n",
    "conn, cursor = conn_curs()\n",
    "query  = f\"\"\"SELECT country from cleaneddata_table where bridge_name = 'Bukinga' LIMIT 1;\"\"\"\n",
    "cursor.execute(query)\n",
    "result = cursor.fetchall()\n",
    "cursor.close()\n",
    "conn.close\n",
    "print(result)"
   ]
  },
  {
   "cell_type": "code",
   "execution_count": 40,
   "metadata": {
    "id": "q6zlzfegmdgR"
   },
   "outputs": [],
   "source": [
    "def fetch_all_records():\n",
    "    global conn_curs\n",
    "    conn,cursor = conn_curs()\n",
    "    query = f\"\"\" SELECT * from model_table LIMIT 5\"\"\";\n",
    "    cursor.execute(query)\n",
    "    result = cursor.fetchall() #when it fetches it adds an extra column (indexes), make sure to remove it\n",
    "    conn.close()\n",
    "    df2 = pd.DataFrame(result, columns= ['index']+list(dfp.columns))\n",
    "    df2 = df2.iloc[:,1:] # This code removes extra copied indexed column\n",
    "    df_json = df2.to_json(orient='records')\n",
    "    parsed = json.loads(df_json)\n",
    "    return df2, parsed\n"
   ]
  },
  {
   "cell_type": "code",
   "execution_count": 41,
   "metadata": {
    "colab": {
     "base_uri": "https://localhost:8080/",
     "height": 168
    },
    "id": "7EIgr8tpmdgV",
    "outputId": "c330acc9-1beb-4dc9-fef6-e6f2101b2fc5"
   },
   "outputs": [
    {
     "name": "stdout",
     "output_type": "stream",
     "text": [
      "(5, 7)\n"
     ]
    },
    {
     "data": {
      "text/html": [
       "<div>\n",
       "<style scoped>\n",
       "    .dataframe tbody tr th:only-of-type {\n",
       "        vertical-align: middle;\n",
       "    }\n",
       "\n",
       "    .dataframe tbody tr th {\n",
       "        vertical-align: top;\n",
       "    }\n",
       "\n",
       "    .dataframe thead th {\n",
       "        text-align: right;\n",
       "    }\n",
       "</style>\n",
       "<table border=\"1\" class=\"dataframe\">\n",
       "  <thead>\n",
       "    <tr style=\"text-align: right;\">\n",
       "      <th></th>\n",
       "      <th>bridge_opportunity_bridge_type</th>\n",
       "      <th>bridge_opportunity_span_m</th>\n",
       "      <th>days_per_year_river_is_flooded</th>\n",
       "      <th>bridge_classification</th>\n",
       "      <th>flag_for_rejection</th>\n",
       "      <th>height_differential_between_banks</th>\n",
       "      <th>bridge_opportunity_project_code</th>\n",
       "    </tr>\n",
       "  </thead>\n",
       "  <tbody>\n",
       "    <tr>\n",
       "      <th>0</th>\n",
       "      <td>Suspended Bridge</td>\n",
       "      <td>52.44</td>\n",
       "      <td>78.63</td>\n",
       "      <td>None</td>\n",
       "      <td>Yes</td>\n",
       "      <td>0.97</td>\n",
       "      <td>1009317</td>\n",
       "    </tr>\n",
       "    <tr>\n",
       "      <th>1</th>\n",
       "      <td>Suspension Bridge</td>\n",
       "      <td>48.00</td>\n",
       "      <td>120.00</td>\n",
       "      <td>None</td>\n",
       "      <td>None</td>\n",
       "      <td>0.70</td>\n",
       "      <td>1007325</td>\n",
       "    </tr>\n",
       "    <tr>\n",
       "      <th>2</th>\n",
       "      <td>Suspension Bridge</td>\n",
       "      <td>50.00</td>\n",
       "      <td>60.00</td>\n",
       "      <td>Standard</td>\n",
       "      <td>None</td>\n",
       "      <td>1.00</td>\n",
       "      <td>1007374</td>\n",
       "    </tr>\n",
       "    <tr>\n",
       "      <th>3</th>\n",
       "      <td>Suspension Bridge</td>\n",
       "      <td>68.00</td>\n",
       "      <td>60.00</td>\n",
       "      <td>Standard</td>\n",
       "      <td>No</td>\n",
       "      <td>1.10</td>\n",
       "      <td>1007466</td>\n",
       "    </tr>\n",
       "    <tr>\n",
       "      <th>4</th>\n",
       "      <td>Suspension Bridge</td>\n",
       "      <td>78.00</td>\n",
       "      <td>35.00</td>\n",
       "      <td>Standard</td>\n",
       "      <td>No</td>\n",
       "      <td>1.10</td>\n",
       "      <td>1007495</td>\n",
       "    </tr>\n",
       "  </tbody>\n",
       "</table>\n",
       "</div>"
      ],
      "text/plain": [
       "  bridge_opportunity_bridge_type  bridge_opportunity_span_m  \\\n",
       "0               Suspended Bridge                      52.44   \n",
       "1              Suspension Bridge                      48.00   \n",
       "2              Suspension Bridge                      50.00   \n",
       "3              Suspension Bridge                      68.00   \n",
       "4              Suspension Bridge                      78.00   \n",
       "\n",
       "   days_per_year_river_is_flooded bridge_classification flag_for_rejection  \\\n",
       "0                           78.63                  None                Yes   \n",
       "1                          120.00                  None               None   \n",
       "2                           60.00              Standard               None   \n",
       "3                           60.00              Standard                 No   \n",
       "4                           35.00              Standard                 No   \n",
       "\n",
       "   height_differential_between_banks bridge_opportunity_project_code  \n",
       "0                               0.97                         1009317  \n",
       "1                               0.70                         1007325  \n",
       "2                               1.00                         1007374  \n",
       "3                               1.10                         1007466  \n",
       "4                               1.10                         1007495  "
      ]
     },
     "execution_count": 41,
     "metadata": {},
     "output_type": "execute_result"
    }
   ],
   "source": [
    "#Testing fetch_all_records function\n",
    "df2, parsed = fetch_all_records()\n",
    "print(df2.shape)\n",
    "df2.head()"
   ]
  },
  {
   "cell_type": "code",
   "execution_count": 42,
   "metadata": {
    "colab": {
     "base_uri": "https://localhost:8080/"
    },
    "id": "0MvfJLhxO0Kl",
    "outputId": "f259aeca-f90b-4629-a68d-7ded3cb0a0b2"
   },
   "outputs": [
    {
     "data": {
      "text/plain": [
       "[{'bridge_opportunity_bridge_type': 'Suspended Bridge',\n",
       "  'bridge_opportunity_span_m': 52.44,\n",
       "  'days_per_year_river_is_flooded': 78.63,\n",
       "  'bridge_classification': None,\n",
       "  'flag_for_rejection': 'Yes',\n",
       "  'height_differential_between_banks': 0.97,\n",
       "  'bridge_opportunity_project_code': '1009317'},\n",
       " {'bridge_opportunity_bridge_type': 'Suspension Bridge',\n",
       "  'bridge_opportunity_span_m': 48.0,\n",
       "  'days_per_year_river_is_flooded': 120.0,\n",
       "  'bridge_classification': None,\n",
       "  'flag_for_rejection': None,\n",
       "  'height_differential_between_banks': 0.7,\n",
       "  'bridge_opportunity_project_code': '1007325'},\n",
       " {'bridge_opportunity_bridge_type': 'Suspension Bridge',\n",
       "  'bridge_opportunity_span_m': 50.0,\n",
       "  'days_per_year_river_is_flooded': 60.0,\n",
       "  'bridge_classification': 'Standard',\n",
       "  'flag_for_rejection': None,\n",
       "  'height_differential_between_banks': 1.0,\n",
       "  'bridge_opportunity_project_code': '1007374'},\n",
       " {'bridge_opportunity_bridge_type': 'Suspension Bridge',\n",
       "  'bridge_opportunity_span_m': 68.0,\n",
       "  'days_per_year_river_is_flooded': 60.0,\n",
       "  'bridge_classification': 'Standard',\n",
       "  'flag_for_rejection': 'No',\n",
       "  'height_differential_between_banks': 1.1,\n",
       "  'bridge_opportunity_project_code': '1007466'},\n",
       " {'bridge_opportunity_bridge_type': 'Suspension Bridge',\n",
       "  'bridge_opportunity_span_m': 78.0,\n",
       "  'days_per_year_river_is_flooded': 35.0,\n",
       "  'bridge_classification': 'Standard',\n",
       "  'flag_for_rejection': 'No',\n",
       "  'height_differential_between_banks': 1.1,\n",
       "  'bridge_opportunity_project_code': '1007495'}]"
      ]
     },
     "execution_count": 42,
     "metadata": {},
     "output_type": "execute_result"
    }
   ],
   "source": [
    "parsed"
   ]
  }
 ],
 "metadata": {
  "colab": {
   "collapsed_sections": [],
   "name": "b2p-d_DB.ipynb",
   "provenance": [],
   "toc_visible": true
  },
  "kernelspec": {
   "display_name": "Python 3",
   "language": "python",
   "name": "python3"
  },
  "language_info": {
   "codemirror_mode": {
    "name": "ipython",
    "version": 3
   },
   "file_extension": ".py",
   "mimetype": "text/x-python",
   "name": "python",
   "nbconvert_exporter": "python",
   "pygments_lexer": "ipython3",
   "version": "3.7.8"
  }
 },
 "nbformat": 4,
 "nbformat_minor": 4
}
